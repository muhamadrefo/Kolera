{
  "nbformat": 4,
  "nbformat_minor": 0,
  "metadata": {
    "colab": {
      "name": "H-1 Trying.ipynb",
      "provenance": [],
      "authorship_tag": "ABX9TyMmVDAksl/wSPbkJbnYNh0Q",
      "include_colab_link": true
    },
    "kernelspec": {
      "name": "python3",
      "display_name": "Python 3"
    }
  },
  "cells": [
    {
      "cell_type": "markdown",
      "metadata": {
        "id": "view-in-github",
        "colab_type": "text"
      },
      "source": [
        "<a href=\"https://colab.research.google.com/github/muhamadrefo/Kolera/blob/master/Logistic%20Regression.ipynb\" target=\"_parent\"><img src=\"https://colab.research.google.com/assets/colab-badge.svg\" alt=\"Open In Colab\"/></a>"
      ]
    },
    {
      "cell_type": "code",
      "metadata": {
        "id": "yCmHhyt6wPHs",
        "colab_type": "code",
        "colab": {
          "base_uri": "https://localhost:8080/",
          "height": 122
        },
        "outputId": "fd196d94-736f-4840-8fd7-508fb39fcf03"
      },
      "source": [
        "from google.colab import drive\n",
        "drive.mount('/content/drive')"
      ],
      "execution_count": 1,
      "outputs": [
        {
          "output_type": "stream",
          "text": [
            "Go to this URL in a browser: https://accounts.google.com/o/oauth2/auth?client_id=947318989803-6bn6qk8qdgf4n4g3pfee6491hc0brc4i.apps.googleusercontent.com&redirect_uri=urn%3aietf%3awg%3aoauth%3a2.0%3aoob&scope=email%20https%3a%2f%2fwww.googleapis.com%2fauth%2fdocs.test%20https%3a%2f%2fwww.googleapis.com%2fauth%2fdrive%20https%3a%2f%2fwww.googleapis.com%2fauth%2fdrive.photos.readonly%20https%3a%2f%2fwww.googleapis.com%2fauth%2fpeopleapi.readonly&response_type=code\n",
            "\n",
            "Enter your authorization code:\n",
            "··········\n",
            "Mounted at /content/drive\n"
          ],
          "name": "stdout"
        }
      ]
    },
    {
      "cell_type": "code",
      "metadata": {
        "id": "EbV62pd7zSq6",
        "colab_type": "code",
        "colab": {
          "base_uri": "https://localhost:8080/",
          "height": 34
        },
        "outputId": "b183b541-cad2-4f25-a67d-c86c6e245184"
      },
      "source": [
        "%cd /content/drive/My Drive/Dataset/Kolera"
      ],
      "execution_count": 2,
      "outputs": [
        {
          "output_type": "stream",
          "text": [
            "/content/drive/My Drive/Dataset/Kolera\n"
          ],
          "name": "stdout"
        }
      ]
    },
    {
      "cell_type": "code",
      "metadata": {
        "id": "1GifqLNEzgAY",
        "colab_type": "code",
        "colab": {
          "base_uri": "https://localhost:8080/",
          "height": 34
        },
        "outputId": "076dc360-5f8f-46a0-b878-c6d81f031a7b"
      },
      "source": [
        "%ls"
      ],
      "execution_count": 3,
      "outputs": [
        {
          "output_type": "stream",
          "text": [
            "datasets_kolera.csv\n"
          ],
          "name": "stdout"
        }
      ]
    },
    {
      "cell_type": "code",
      "metadata": {
        "id": "eGBEVk99ziW4",
        "colab_type": "code",
        "colab": {
          "base_uri": "https://localhost:8080/",
          "height": 419
        },
        "outputId": "d4bbffce-28bd-4f56-d7fc-f9583f8af802"
      },
      "source": [
        "import pandas as pd\n",
        "import csv\n",
        "\n",
        "data = pd.read_csv('Kolera (2).csv')\n",
        "data"
      ],
      "execution_count": 39,
      "outputs": [
        {
          "output_type": "execute_result",
          "data": {
            "text/html": [
              "<div>\n",
              "<style scoped>\n",
              "    .dataframe tbody tr th:only-of-type {\n",
              "        vertical-align: middle;\n",
              "    }\n",
              "\n",
              "    .dataframe tbody tr th {\n",
              "        vertical-align: top;\n",
              "    }\n",
              "\n",
              "    .dataframe thead th {\n",
              "        text-align: right;\n",
              "    }\n",
              "</style>\n",
              "<table border=\"1\" class=\"dataframe\">\n",
              "  <thead>\n",
              "    <tr style=\"text-align: right;\">\n",
              "      <th></th>\n",
              "      <th>Country</th>\n",
              "      <th>Year</th>\n",
              "      <th>Number of reported cases of cholera</th>\n",
              "      <th>Number of reported deaths from cholera</th>\n",
              "      <th>Cholera case fatality rate</th>\n",
              "      <th>WHO Region</th>\n",
              "    </tr>\n",
              "  </thead>\n",
              "  <tbody>\n",
              "    <tr>\n",
              "      <th>0</th>\n",
              "      <td>Afghanistan</td>\n",
              "      <td>2016</td>\n",
              "      <td>677</td>\n",
              "      <td>5</td>\n",
              "      <td>0.70</td>\n",
              "      <td>Eastern Mediterranean</td>\n",
              "    </tr>\n",
              "    <tr>\n",
              "      <th>1</th>\n",
              "      <td>Afghanistan</td>\n",
              "      <td>2015</td>\n",
              "      <td>58064</td>\n",
              "      <td>8</td>\n",
              "      <td>0.01</td>\n",
              "      <td>Eastern Mediterranean</td>\n",
              "    </tr>\n",
              "    <tr>\n",
              "      <th>2</th>\n",
              "      <td>Afghanistan</td>\n",
              "      <td>2014</td>\n",
              "      <td>45481</td>\n",
              "      <td>4</td>\n",
              "      <td>0.00</td>\n",
              "      <td>Eastern Mediterranean</td>\n",
              "    </tr>\n",
              "    <tr>\n",
              "      <th>3</th>\n",
              "      <td>Afghanistan</td>\n",
              "      <td>2013</td>\n",
              "      <td>3957</td>\n",
              "      <td>14</td>\n",
              "      <td>0.35</td>\n",
              "      <td>Eastern Mediterranean</td>\n",
              "    </tr>\n",
              "    <tr>\n",
              "      <th>4</th>\n",
              "      <td>Afghanistan</td>\n",
              "      <td>2012</td>\n",
              "      <td>12</td>\n",
              "      <td>0</td>\n",
              "      <td>0.10</td>\n",
              "      <td>Eastern Mediterranean</td>\n",
              "    </tr>\n",
              "    <tr>\n",
              "      <th>...</th>\n",
              "      <td>...</td>\n",
              "      <td>...</td>\n",
              "      <td>...</td>\n",
              "      <td>...</td>\n",
              "      <td>...</td>\n",
              "      <td>...</td>\n",
              "    </tr>\n",
              "    <tr>\n",
              "      <th>2487</th>\n",
              "      <td>Russian Federation</td>\n",
              "      <td>1980</td>\n",
              "      <td>0</td>\n",
              "      <td>0</td>\n",
              "      <td>0.00</td>\n",
              "      <td>Europe</td>\n",
              "    </tr>\n",
              "    <tr>\n",
              "      <th>2488</th>\n",
              "      <td>Russian Federation</td>\n",
              "      <td>1971</td>\n",
              "      <td>0</td>\n",
              "      <td>0</td>\n",
              "      <td>0.00</td>\n",
              "      <td>Europe</td>\n",
              "    </tr>\n",
              "    <tr>\n",
              "      <th>2489</th>\n",
              "      <td>Sweden</td>\n",
              "      <td>1984</td>\n",
              "      <td>0</td>\n",
              "      <td>0</td>\n",
              "      <td>0.00</td>\n",
              "      <td>Europe</td>\n",
              "    </tr>\n",
              "    <tr>\n",
              "      <th>2490</th>\n",
              "      <td>Switzerland</td>\n",
              "      <td>1980</td>\n",
              "      <td>0</td>\n",
              "      <td>0</td>\n",
              "      <td>0.00</td>\n",
              "      <td>Europe</td>\n",
              "    </tr>\n",
              "    <tr>\n",
              "      <th>2491</th>\n",
              "      <td>Cambodia</td>\n",
              "      <td>2011</td>\n",
              "      <td>0</td>\n",
              "      <td>0</td>\n",
              "      <td>0.00</td>\n",
              "      <td>Western Pacific</td>\n",
              "    </tr>\n",
              "  </tbody>\n",
              "</table>\n",
              "<p>2492 rows × 6 columns</p>\n",
              "</div>"
            ],
            "text/plain": [
              "                 Country  ...             WHO Region\n",
              "0            Afghanistan  ...  Eastern Mediterranean\n",
              "1            Afghanistan  ...  Eastern Mediterranean\n",
              "2            Afghanistan  ...  Eastern Mediterranean\n",
              "3            Afghanistan  ...  Eastern Mediterranean\n",
              "4            Afghanistan  ...  Eastern Mediterranean\n",
              "...                  ...  ...                    ...\n",
              "2487  Russian Federation  ...                 Europe\n",
              "2488  Russian Federation  ...                 Europe\n",
              "2489              Sweden  ...                 Europe\n",
              "2490         Switzerland  ...                 Europe\n",
              "2491            Cambodia  ...        Western Pacific\n",
              "\n",
              "[2492 rows x 6 columns]"
            ]
          },
          "metadata": {
            "tags": []
          },
          "execution_count": 39
        }
      ]
    },
    {
      "cell_type": "code",
      "metadata": {
        "id": "3n3vQf7Jw1HT",
        "colab_type": "code",
        "colab": {}
      },
      "source": [
        "import numpy as np\n",
        "import joblib\n",
        "import warnings\n",
        "warnings.filterwarnings('ignore')\n",
        "from sklearn import metrics"
      ],
      "execution_count": 40,
      "outputs": []
    },
    {
      "cell_type": "code",
      "metadata": {
        "id": "vBolpU3tzOiw",
        "colab_type": "code",
        "colab": {
          "base_uri": "https://localhost:8080/",
          "height": 419
        },
        "outputId": "862dd6b5-9fc9-49d5-9dae-cf2fe3410609"
      },
      "source": [
        "df = data.loc[2:,:]\n",
        "df"
      ],
      "execution_count": 41,
      "outputs": [
        {
          "output_type": "execute_result",
          "data": {
            "text/html": [
              "<div>\n",
              "<style scoped>\n",
              "    .dataframe tbody tr th:only-of-type {\n",
              "        vertical-align: middle;\n",
              "    }\n",
              "\n",
              "    .dataframe tbody tr th {\n",
              "        vertical-align: top;\n",
              "    }\n",
              "\n",
              "    .dataframe thead th {\n",
              "        text-align: right;\n",
              "    }\n",
              "</style>\n",
              "<table border=\"1\" class=\"dataframe\">\n",
              "  <thead>\n",
              "    <tr style=\"text-align: right;\">\n",
              "      <th></th>\n",
              "      <th>Country</th>\n",
              "      <th>Year</th>\n",
              "      <th>Number of reported cases of cholera</th>\n",
              "      <th>Number of reported deaths from cholera</th>\n",
              "      <th>Cholera case fatality rate</th>\n",
              "      <th>WHO Region</th>\n",
              "    </tr>\n",
              "  </thead>\n",
              "  <tbody>\n",
              "    <tr>\n",
              "      <th>2</th>\n",
              "      <td>Afghanistan</td>\n",
              "      <td>2014</td>\n",
              "      <td>45481</td>\n",
              "      <td>4</td>\n",
              "      <td>0.00</td>\n",
              "      <td>Eastern Mediterranean</td>\n",
              "    </tr>\n",
              "    <tr>\n",
              "      <th>3</th>\n",
              "      <td>Afghanistan</td>\n",
              "      <td>2013</td>\n",
              "      <td>3957</td>\n",
              "      <td>14</td>\n",
              "      <td>0.35</td>\n",
              "      <td>Eastern Mediterranean</td>\n",
              "    </tr>\n",
              "    <tr>\n",
              "      <th>4</th>\n",
              "      <td>Afghanistan</td>\n",
              "      <td>2012</td>\n",
              "      <td>12</td>\n",
              "      <td>0</td>\n",
              "      <td>0.10</td>\n",
              "      <td>Eastern Mediterranean</td>\n",
              "    </tr>\n",
              "    <tr>\n",
              "      <th>5</th>\n",
              "      <td>Afghanistan</td>\n",
              "      <td>2011</td>\n",
              "      <td>3733</td>\n",
              "      <td>44</td>\n",
              "      <td>1.18</td>\n",
              "      <td>Eastern Mediterranean</td>\n",
              "    </tr>\n",
              "    <tr>\n",
              "      <th>6</th>\n",
              "      <td>Afghanistan</td>\n",
              "      <td>2010</td>\n",
              "      <td>2369</td>\n",
              "      <td>10</td>\n",
              "      <td>0.42</td>\n",
              "      <td>Eastern Mediterranean</td>\n",
              "    </tr>\n",
              "    <tr>\n",
              "      <th>...</th>\n",
              "      <td>...</td>\n",
              "      <td>...</td>\n",
              "      <td>...</td>\n",
              "      <td>...</td>\n",
              "      <td>...</td>\n",
              "      <td>...</td>\n",
              "    </tr>\n",
              "    <tr>\n",
              "      <th>2487</th>\n",
              "      <td>Russian Federation</td>\n",
              "      <td>1980</td>\n",
              "      <td>0</td>\n",
              "      <td>0</td>\n",
              "      <td>0.00</td>\n",
              "      <td>Europe</td>\n",
              "    </tr>\n",
              "    <tr>\n",
              "      <th>2488</th>\n",
              "      <td>Russian Federation</td>\n",
              "      <td>1971</td>\n",
              "      <td>0</td>\n",
              "      <td>0</td>\n",
              "      <td>0.00</td>\n",
              "      <td>Europe</td>\n",
              "    </tr>\n",
              "    <tr>\n",
              "      <th>2489</th>\n",
              "      <td>Sweden</td>\n",
              "      <td>1984</td>\n",
              "      <td>0</td>\n",
              "      <td>0</td>\n",
              "      <td>0.00</td>\n",
              "      <td>Europe</td>\n",
              "    </tr>\n",
              "    <tr>\n",
              "      <th>2490</th>\n",
              "      <td>Switzerland</td>\n",
              "      <td>1980</td>\n",
              "      <td>0</td>\n",
              "      <td>0</td>\n",
              "      <td>0.00</td>\n",
              "      <td>Europe</td>\n",
              "    </tr>\n",
              "    <tr>\n",
              "      <th>2491</th>\n",
              "      <td>Cambodia</td>\n",
              "      <td>2011</td>\n",
              "      <td>0</td>\n",
              "      <td>0</td>\n",
              "      <td>0.00</td>\n",
              "      <td>Western Pacific</td>\n",
              "    </tr>\n",
              "  </tbody>\n",
              "</table>\n",
              "<p>2490 rows × 6 columns</p>\n",
              "</div>"
            ],
            "text/plain": [
              "                 Country  ...             WHO Region\n",
              "2            Afghanistan  ...  Eastern Mediterranean\n",
              "3            Afghanistan  ...  Eastern Mediterranean\n",
              "4            Afghanistan  ...  Eastern Mediterranean\n",
              "5            Afghanistan  ...  Eastern Mediterranean\n",
              "6            Afghanistan  ...  Eastern Mediterranean\n",
              "...                  ...  ...                    ...\n",
              "2487  Russian Federation  ...                 Europe\n",
              "2488  Russian Federation  ...                 Europe\n",
              "2489              Sweden  ...                 Europe\n",
              "2490         Switzerland  ...                 Europe\n",
              "2491            Cambodia  ...        Western Pacific\n",
              "\n",
              "[2490 rows x 6 columns]"
            ]
          },
          "metadata": {
            "tags": []
          },
          "execution_count": 41
        }
      ]
    },
    {
      "cell_type": "code",
      "metadata": {
        "id": "ETtYWGEh0Oi7",
        "colab_type": "code",
        "colab": {}
      },
      "source": [
        "X = df.iloc[:, 2:5]\n",
        "y = df.iloc[:, -1]"
      ],
      "execution_count": 42,
      "outputs": []
    },
    {
      "cell_type": "code",
      "metadata": {
        "id": "CUuZ_oqq0VLc",
        "colab_type": "code",
        "colab": {}
      },
      "source": [
        "from sklearn.model_selection import train_test_split as tt\n",
        "x_train, x_test, y_train, y_test = tt(X,y, test_size =0.2)"
      ],
      "execution_count": 43,
      "outputs": []
    },
    {
      "cell_type": "code",
      "metadata": {
        "id": "BT-sNQaW0ikb",
        "colab_type": "code",
        "colab": {
          "base_uri": "https://localhost:8080/",
          "height": 442
        },
        "outputId": "86c79476-489a-4400-c402-c337234eb777"
      },
      "source": [
        "from sklearn.linear_model import LogisticRegression\n",
        "LR = LogisticRegression()\n",
        "LR.fit(x_train, y_train)\n",
        "pred_lr = LR.predict(x_test)\n",
        "acc_lr = (np.sum(pred_lr == y_test)/ y_test.size)*100\n",
        "joblib.dump(LR, 'model_LR1.pkl')\n",
        "\n",
        "print('Using Logistic Regression Method')\n",
        "print('Accuracy - ',acc_lr)\n",
        "#print('Recall - ',metrics.recall_score(y_test, pred_lr))\n",
        "#print('Precision Score - ', metrics.precision_score(y_test, pred_lr))\n",
        "print('Confusion Matrix \\n', metrics.confusion_matrix(y_test, pred_lr))\n",
        "print('\\n')\n",
        "print(\"Classification Report: \\n\", metrics.classification_report(y_test, pred_lr))"
      ],
      "execution_count": 53,
      "outputs": [
        {
          "output_type": "stream",
          "text": [
            "Using Logistic Regression Method\n",
            "Accuracy -  39.959839357429715\n",
            "Confusion Matrix \n",
            " [[177  13   0   0   1   0]\n",
            " [ 41  11   0   0   0   0]\n",
            " [ 35   9   0   0   0   0]\n",
            " [ 62   0   0   0   0   0]\n",
            " [ 43  10   0   0  11   0]\n",
            " [ 68  17   0   0   0   0]]\n",
            "\n",
            "\n",
            "Classification Report: \n",
            "                        precision    recall  f1-score   support\n",
            "\n",
            "               Africa       0.42      0.93      0.57       191\n",
            "             Americas       0.18      0.21      0.20        52\n",
            "Eastern Mediterranean       0.00      0.00      0.00        44\n",
            "               Europe       0.00      0.00      0.00        62\n",
            "      South-East Asia       0.92      0.17      0.29        64\n",
            "      Western Pacific       0.00      0.00      0.00        85\n",
            "\n",
            "             accuracy                           0.40       498\n",
            "            macro avg       0.25      0.22      0.18       498\n",
            "         weighted avg       0.30      0.40      0.28       498\n",
            "\n"
          ],
          "name": "stdout"
        }
      ]
    },
    {
      "cell_type": "code",
      "metadata": {
        "id": "LjQzBCVj_G07",
        "colab_type": "code",
        "colab": {
          "base_uri": "https://localhost:8080/",
          "height": 51
        },
        "outputId": "db9aae6e-6be6-4d27-d404-5caaceffdaf1"
      },
      "source": [
        "%ls"
      ],
      "execution_count": 54,
      "outputs": [
        {
          "output_type": "stream",
          "text": [
            " datasets_kolera.csv  'Kolera (2).csv'   model_LR1.pkl\n",
            "'Kolera (1).csv'       Kolera.csv\n"
          ],
          "name": "stdout"
        }
      ]
    }
  ]
}