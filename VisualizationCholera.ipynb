{
  "nbformat": 4,
  "nbformat_minor": 0,
  "metadata": {
    "colab": {
      "name": "Untitled6.ipynb",
      "provenance": [],
      "authorship_tag": "ABX9TyN29ugSQayC9plzipieZi8w",
      "include_colab_link": true
    },
    "kernelspec": {
      "name": "python3",
      "display_name": "Python 3"
    }
  },
  "cells": [
    {
      "cell_type": "markdown",
      "metadata": {
        "id": "view-in-github",
        "colab_type": "text"
      },
      "source": [
        "<a href=\"https://colab.research.google.com/github/muhamadrefo/Kolera/blob/master/VisualizationCholera.ipynb\" target=\"_parent\"><img src=\"https://colab.research.google.com/assets/colab-badge.svg\" alt=\"Open In Colab\"/></a>"
      ]
    },
    {
      "cell_type": "code",
      "metadata": {
        "id": "iw0C3JpssSiD",
        "outputId": "8f273eff-08a6-4bb6-f992-59211cc6d20a",
        "colab": {
          "base_uri": "https://localhost:8080/",
          "height": 34
        }
      },
      "source": [
        "from google.colab import drive\n",
        "drive.mount('/content/drive')"
      ],
      "execution_count": 1,
      "outputs": [
        {
          "output_type": "stream",
          "text": [
            "Mounted at /content/drive\n"
          ],
          "name": "stdout"
        }
      ]
    },
    {
      "cell_type": "code",
      "metadata": {
        "id": "hMr32fwmtVgV",
        "outputId": "4f121ba6-c2f8-4369-826a-38031e5f6fd9",
        "colab": {
          "base_uri": "https://localhost:8080/",
          "height": 51
        }
      },
      "source": [
        "%cd /content/drive/My Drive/Dataset/Kolera\n",
        "%ls"
      ],
      "execution_count": 2,
      "outputs": [
        {
          "output_type": "stream",
          "text": [
            "/content/drive/My Drive/Dataset/Kolera\n",
            "datasets_kolera.csv  Kolera.csv  model_LR1.pkl  unfilteredCholera.csv\n"
          ],
          "name": "stdout"
        }
      ]
    },
    {
      "cell_type": "code",
      "metadata": {
        "id": "FO17FfgRtfAA"
      },
      "source": [
        "#importing library and packages\n",
        "import numpy as np\n",
        "import pandas as pd\n",
        "import csv\n",
        "import matplotlib.pyplot as plt\n",
        "from sklearn.model_selection import train_test_split as tt\n",
        "%matplotlib inline"
      ],
      "execution_count": 3,
      "outputs": []
    },
    {
      "cell_type": "markdown",
      "metadata": {
        "id": "39sXnzDa1N2b"
      },
      "source": [
        "#Step 1: Preparing the Dataset"
      ]
    },
    {
      "cell_type": "code",
      "metadata": {
        "id": "oAdYnP3iuYw8",
        "outputId": "2dae81fa-d296-4e6e-947f-ee6b23c647d9",
        "colab": {
          "base_uri": "https://localhost:8080/",
          "height": 419
        }
      },
      "source": [
        "#show the dataset \n",
        "data = pd.read_csv('data.csv')\n",
        "data"
      ],
      "execution_count": 15,
      "outputs": [
        {
          "output_type": "execute_result",
          "data": {
            "text/html": [
              "<div>\n",
              "<style scoped>\n",
              "    .dataframe tbody tr th:only-of-type {\n",
              "        vertical-align: middle;\n",
              "    }\n",
              "\n",
              "    .dataframe tbody tr th {\n",
              "        vertical-align: top;\n",
              "    }\n",
              "\n",
              "    .dataframe thead th {\n",
              "        text-align: right;\n",
              "    }\n",
              "</style>\n",
              "<table border=\"1\" class=\"dataframe\">\n",
              "  <thead>\n",
              "    <tr style=\"text-align: right;\">\n",
              "      <th></th>\n",
              "      <th>Country</th>\n",
              "      <th>Year</th>\n",
              "      <th>Number of reported cases of cholera</th>\n",
              "      <th>Number of reported deaths from cholera</th>\n",
              "      <th>Cholera case fatality rate</th>\n",
              "      <th>WHO Region</th>\n",
              "    </tr>\n",
              "  </thead>\n",
              "  <tbody>\n",
              "    <tr>\n",
              "      <th>0</th>\n",
              "      <td>Afghanistan</td>\n",
              "      <td>2016</td>\n",
              "      <td>677</td>\n",
              "      <td>5</td>\n",
              "      <td>0.7</td>\n",
              "      <td>Eastern Mediterranean</td>\n",
              "    </tr>\n",
              "    <tr>\n",
              "      <th>1</th>\n",
              "      <td>Afghanistan</td>\n",
              "      <td>2015</td>\n",
              "      <td>58064</td>\n",
              "      <td>8</td>\n",
              "      <td>0.01</td>\n",
              "      <td>Eastern Mediterranean</td>\n",
              "    </tr>\n",
              "    <tr>\n",
              "      <th>2</th>\n",
              "      <td>Afghanistan</td>\n",
              "      <td>2014</td>\n",
              "      <td>45481</td>\n",
              "      <td>4</td>\n",
              "      <td>0.0</td>\n",
              "      <td>Eastern Mediterranean</td>\n",
              "    </tr>\n",
              "    <tr>\n",
              "      <th>3</th>\n",
              "      <td>Afghanistan</td>\n",
              "      <td>2013</td>\n",
              "      <td>3957</td>\n",
              "      <td>14</td>\n",
              "      <td>0.35</td>\n",
              "      <td>Eastern Mediterranean</td>\n",
              "    </tr>\n",
              "    <tr>\n",
              "      <th>4</th>\n",
              "      <td>Afghanistan</td>\n",
              "      <td>2012</td>\n",
              "      <td>12</td>\n",
              "      <td>0</td>\n",
              "      <td>0.1</td>\n",
              "      <td>Eastern Mediterranean</td>\n",
              "    </tr>\n",
              "    <tr>\n",
              "      <th>...</th>\n",
              "      <td>...</td>\n",
              "      <td>...</td>\n",
              "      <td>...</td>\n",
              "      <td>...</td>\n",
              "      <td>...</td>\n",
              "      <td>...</td>\n",
              "    </tr>\n",
              "    <tr>\n",
              "      <th>2487</th>\n",
              "      <td>Russian Federation</td>\n",
              "      <td>1980</td>\n",
              "      <td>NaN</td>\n",
              "      <td>0</td>\n",
              "      <td>NaN</td>\n",
              "      <td>Europe</td>\n",
              "    </tr>\n",
              "    <tr>\n",
              "      <th>2488</th>\n",
              "      <td>Russian Federation</td>\n",
              "      <td>1971</td>\n",
              "      <td>NaN</td>\n",
              "      <td>0</td>\n",
              "      <td>NaN</td>\n",
              "      <td>Europe</td>\n",
              "    </tr>\n",
              "    <tr>\n",
              "      <th>2489</th>\n",
              "      <td>Sweden</td>\n",
              "      <td>1984</td>\n",
              "      <td>NaN</td>\n",
              "      <td>0</td>\n",
              "      <td>NaN</td>\n",
              "      <td>Europe</td>\n",
              "    </tr>\n",
              "    <tr>\n",
              "      <th>2490</th>\n",
              "      <td>Switzerland</td>\n",
              "      <td>1980</td>\n",
              "      <td>NaN</td>\n",
              "      <td>0</td>\n",
              "      <td>NaN</td>\n",
              "      <td>Europe</td>\n",
              "    </tr>\n",
              "    <tr>\n",
              "      <th>2491</th>\n",
              "      <td>Cambodia</td>\n",
              "      <td>2011</td>\n",
              "      <td>NaN</td>\n",
              "      <td>NaN</td>\n",
              "      <td>0.00</td>\n",
              "      <td>Western Pacific</td>\n",
              "    </tr>\n",
              "  </tbody>\n",
              "</table>\n",
              "<p>2492 rows × 6 columns</p>\n",
              "</div>"
            ],
            "text/plain": [
              "                 Country  ...             WHO Region\n",
              "0            Afghanistan  ...  Eastern Mediterranean\n",
              "1            Afghanistan  ...  Eastern Mediterranean\n",
              "2            Afghanistan  ...  Eastern Mediterranean\n",
              "3            Afghanistan  ...  Eastern Mediterranean\n",
              "4            Afghanistan  ...  Eastern Mediterranean\n",
              "...                  ...  ...                    ...\n",
              "2487  Russian Federation  ...                 Europe\n",
              "2488  Russian Federation  ...                 Europe\n",
              "2489              Sweden  ...                 Europe\n",
              "2490         Switzerland  ...                 Europe\n",
              "2491            Cambodia  ...        Western Pacific\n",
              "\n",
              "[2492 rows x 6 columns]"
            ]
          },
          "metadata": {
            "tags": []
          },
          "execution_count": 15
        }
      ]
    },
    {
      "cell_type": "code",
      "metadata": {
        "id": "kZVuGlNWu8C7",
        "outputId": "41a07bce-da74-44fe-e5db-46394396fcf2",
        "colab": {
          "base_uri": "https://localhost:8080/",
          "height": 238
        }
      },
      "source": [
        "data.info()"
      ],
      "execution_count": 16,
      "outputs": [
        {
          "output_type": "stream",
          "text": [
            "<class 'pandas.core.frame.DataFrame'>\n",
            "RangeIndex: 2492 entries, 0 to 2491\n",
            "Data columns (total 6 columns):\n",
            " #   Column                                  Non-Null Count  Dtype \n",
            "---  ------                                  --------------  ----- \n",
            " 0   Country                                 2492 non-null   object\n",
            " 1   Year                                    2492 non-null   int64 \n",
            " 2   Number of reported cases of cholera     2470 non-null   object\n",
            " 3   Number of reported deaths from cholera  2375 non-null   object\n",
            " 4   Cholera case fatality rate              2365 non-null   object\n",
            " 5   WHO Region                              2492 non-null   object\n",
            "dtypes: int64(1), object(5)\n",
            "memory usage: 116.9+ KB\n"
          ],
          "name": "stdout"
        }
      ]
    },
    {
      "cell_type": "code",
      "metadata": {
        "id": "N4kFZUXB0Tcp"
      },
      "source": [
        "#replace missing data (1 time run)\n",
        "data['Cholera case fatality rate'] = data['Cholera case fatality rate'].str.replace('0.0', '0')\n",
        "data['Cholera case fatality rate'] = data['Cholera case fatality rate'].str.replace('0 0', '0')\n",
        "data['Number of reported deaths from cholera']=data['Number of reported deaths from cholera'].str.replace('0 0', '0')\n",
        "data['Number of reported cases of cholera']=data['Number of reported cases of cholera'].str.replace('3 5', '0')\n",
        "data=data.replace(np.nan, '0', regex=True)\n",
        "data=data.replace('Unknown', '0', regex=True)"
      ],
      "execution_count": 17,
      "outputs": []
    },
    {
      "cell_type": "code",
      "metadata": {
        "id": "Y8rtn7-H0e7N",
        "outputId": "4b19db29-ecf1-444d-c25f-62c7b66bbf9a",
        "colab": {
          "base_uri": "https://localhost:8080/",
          "height": 238
        }
      },
      "source": [
        "#Change type of data\n",
        "data['WHO Region']=data['WHO Region'].astype('str')\n",
        "data['Country']=data['Country'].astype('str')\n",
        "data['Cholera case fatality rate']=data['Cholera case fatality rate'].astype('float')\n",
        "data['Number of reported cases of cholera']=data['Number of reported cases of cholera'].astype('int64')\n",
        "data['Number of reported deaths from cholera']=data['Number of reported deaths from cholera'].astype('int64')\n",
        "data.info()"
      ],
      "execution_count": 20,
      "outputs": [
        {
          "output_type": "stream",
          "text": [
            "<class 'pandas.core.frame.DataFrame'>\n",
            "RangeIndex: 2492 entries, 0 to 2491\n",
            "Data columns (total 6 columns):\n",
            " #   Column                                  Non-Null Count  Dtype  \n",
            "---  ------                                  --------------  -----  \n",
            " 0   Country                                 2492 non-null   object \n",
            " 1   Year                                    2492 non-null   int64  \n",
            " 2   Number of reported cases of cholera     2492 non-null   int64  \n",
            " 3   Number of reported deaths from cholera  2492 non-null   int64  \n",
            " 4   Cholera case fatality rate              2492 non-null   float64\n",
            " 5   WHO Region                              2492 non-null   object \n",
            "dtypes: float64(1), int64(3), object(2)\n",
            "memory usage: 116.9+ KB\n"
          ],
          "name": "stdout"
        }
      ]
    },
    {
      "cell_type": "code",
      "metadata": {
        "id": "j8VHy1-wClUk"
      },
      "source": [
        "#rename Columns of dataset\n",
        "data = data.rename(columns={'Number of reported cases of cholera':'Cases',\n",
        "                   'Number of reported deaths from cholera':'Deaths',\n",
        "                   'Cholera case fatality rate':'Fatality rate'})"
      ],
      "execution_count": 76,
      "outputs": []
    },
    {
      "cell_type": "code",
      "metadata": {
        "id": "hUKZpLN50xJa",
        "outputId": "52537012-80a3-4002-d058-6105fb4b452f",
        "colab": {
          "base_uri": "https://localhost:8080/",
          "height": 419
        }
      },
      "source": [
        "data"
      ],
      "execution_count": 77,
      "outputs": [
        {
          "output_type": "execute_result",
          "data": {
            "text/html": [
              "<div>\n",
              "<style scoped>\n",
              "    .dataframe tbody tr th:only-of-type {\n",
              "        vertical-align: middle;\n",
              "    }\n",
              "\n",
              "    .dataframe tbody tr th {\n",
              "        vertical-align: top;\n",
              "    }\n",
              "\n",
              "    .dataframe thead th {\n",
              "        text-align: right;\n",
              "    }\n",
              "</style>\n",
              "<table border=\"1\" class=\"dataframe\">\n",
              "  <thead>\n",
              "    <tr style=\"text-align: right;\">\n",
              "      <th></th>\n",
              "      <th>Country</th>\n",
              "      <th>Year</th>\n",
              "      <th>Cases</th>\n",
              "      <th>Deaths</th>\n",
              "      <th>Fatality rate</th>\n",
              "      <th>WHO Region</th>\n",
              "    </tr>\n",
              "  </thead>\n",
              "  <tbody>\n",
              "    <tr>\n",
              "      <th>0</th>\n",
              "      <td>Afghanistan</td>\n",
              "      <td>2016</td>\n",
              "      <td>677</td>\n",
              "      <td>5</td>\n",
              "      <td>0.70</td>\n",
              "      <td>Eastern Mediterranean</td>\n",
              "    </tr>\n",
              "    <tr>\n",
              "      <th>1</th>\n",
              "      <td>Afghanistan</td>\n",
              "      <td>2015</td>\n",
              "      <td>58064</td>\n",
              "      <td>8</td>\n",
              "      <td>1.00</td>\n",
              "      <td>Eastern Mediterranean</td>\n",
              "    </tr>\n",
              "    <tr>\n",
              "      <th>2</th>\n",
              "      <td>Afghanistan</td>\n",
              "      <td>2014</td>\n",
              "      <td>45481</td>\n",
              "      <td>4</td>\n",
              "      <td>0.00</td>\n",
              "      <td>Eastern Mediterranean</td>\n",
              "    </tr>\n",
              "    <tr>\n",
              "      <th>3</th>\n",
              "      <td>Afghanistan</td>\n",
              "      <td>2013</td>\n",
              "      <td>3957</td>\n",
              "      <td>14</td>\n",
              "      <td>0.35</td>\n",
              "      <td>Eastern Mediterranean</td>\n",
              "    </tr>\n",
              "    <tr>\n",
              "      <th>4</th>\n",
              "      <td>Afghanistan</td>\n",
              "      <td>2012</td>\n",
              "      <td>12</td>\n",
              "      <td>0</td>\n",
              "      <td>0.10</td>\n",
              "      <td>Eastern Mediterranean</td>\n",
              "    </tr>\n",
              "    <tr>\n",
              "      <th>...</th>\n",
              "      <td>...</td>\n",
              "      <td>...</td>\n",
              "      <td>...</td>\n",
              "      <td>...</td>\n",
              "      <td>...</td>\n",
              "      <td>...</td>\n",
              "    </tr>\n",
              "    <tr>\n",
              "      <th>2487</th>\n",
              "      <td>Russian Federation</td>\n",
              "      <td>1980</td>\n",
              "      <td>0</td>\n",
              "      <td>0</td>\n",
              "      <td>0.00</td>\n",
              "      <td>Europe</td>\n",
              "    </tr>\n",
              "    <tr>\n",
              "      <th>2488</th>\n",
              "      <td>Russian Federation</td>\n",
              "      <td>1971</td>\n",
              "      <td>0</td>\n",
              "      <td>0</td>\n",
              "      <td>0.00</td>\n",
              "      <td>Europe</td>\n",
              "    </tr>\n",
              "    <tr>\n",
              "      <th>2489</th>\n",
              "      <td>Sweden</td>\n",
              "      <td>1984</td>\n",
              "      <td>0</td>\n",
              "      <td>0</td>\n",
              "      <td>0.00</td>\n",
              "      <td>Europe</td>\n",
              "    </tr>\n",
              "    <tr>\n",
              "      <th>2490</th>\n",
              "      <td>Switzerland</td>\n",
              "      <td>1980</td>\n",
              "      <td>0</td>\n",
              "      <td>0</td>\n",
              "      <td>0.00</td>\n",
              "      <td>Europe</td>\n",
              "    </tr>\n",
              "    <tr>\n",
              "      <th>2491</th>\n",
              "      <td>Cambodia</td>\n",
              "      <td>2011</td>\n",
              "      <td>0</td>\n",
              "      <td>0</td>\n",
              "      <td>0.00</td>\n",
              "      <td>Western Pacific</td>\n",
              "    </tr>\n",
              "  </tbody>\n",
              "</table>\n",
              "<p>2492 rows × 6 columns</p>\n",
              "</div>"
            ],
            "text/plain": [
              "                 Country  Year  ...  Fatality rate             WHO Region\n",
              "0            Afghanistan  2016  ...           0.70  Eastern Mediterranean\n",
              "1            Afghanistan  2015  ...           1.00  Eastern Mediterranean\n",
              "2            Afghanistan  2014  ...           0.00  Eastern Mediterranean\n",
              "3            Afghanistan  2013  ...           0.35  Eastern Mediterranean\n",
              "4            Afghanistan  2012  ...           0.10  Eastern Mediterranean\n",
              "...                  ...   ...  ...            ...                    ...\n",
              "2487  Russian Federation  1980  ...           0.00                 Europe\n",
              "2488  Russian Federation  1971  ...           0.00                 Europe\n",
              "2489              Sweden  1984  ...           0.00                 Europe\n",
              "2490         Switzerland  1980  ...           0.00                 Europe\n",
              "2491            Cambodia  2011  ...           0.00        Western Pacific\n",
              "\n",
              "[2492 rows x 6 columns]"
            ]
          },
          "metadata": {
            "tags": []
          },
          "execution_count": 77
        }
      ]
    },
    {
      "cell_type": "code",
      "metadata": {
        "id": "pd7HDGSE1l_r",
        "outputId": "4c712a11-fb62-419a-acc4-d45b98708fc4",
        "colab": {
          "base_uri": "https://localhost:8080/",
          "height": 136
        }
      },
      "source": [
        "#check if there's still null inside the dataset\n",
        "data.isnull().sum()"
      ],
      "execution_count": 78,
      "outputs": [
        {
          "output_type": "execute_result",
          "data": {
            "text/plain": [
              "Country          0\n",
              "Year             0\n",
              "Cases            0\n",
              "Deaths           0\n",
              "Fatality rate    0\n",
              "WHO Region       0\n",
              "dtype: int64"
            ]
          },
          "metadata": {
            "tags": []
          },
          "execution_count": 78
        }
      ]
    },
    {
      "cell_type": "markdown",
      "metadata": {
        "id": "jmJvf4id1WFK"
      },
      "source": [
        "#Step 2: Visualization Dataset"
      ]
    },
    {
      "cell_type": "code",
      "metadata": {
        "id": "VD7d-l621U08",
        "outputId": "616c5644-061f-40e8-d5bc-3c869db29f5a",
        "colab": {
          "base_uri": "https://localhost:8080/",
          "height": 1000
        }
      },
      "source": [
        "#Split dataset for what country do u need for\n",
        "idn = data[data['Country']=='Indonesia']\n",
        "idn"
      ],
      "execution_count": 79,
      "outputs": [
        {
          "output_type": "execute_result",
          "data": {
            "text/html": [
              "<div>\n",
              "<style scoped>\n",
              "    .dataframe tbody tr th:only-of-type {\n",
              "        vertical-align: middle;\n",
              "    }\n",
              "\n",
              "    .dataframe tbody tr th {\n",
              "        vertical-align: top;\n",
              "    }\n",
              "\n",
              "    .dataframe thead th {\n",
              "        text-align: right;\n",
              "    }\n",
              "</style>\n",
              "<table border=\"1\" class=\"dataframe\">\n",
              "  <thead>\n",
              "    <tr style=\"text-align: right;\">\n",
              "      <th></th>\n",
              "      <th>Country</th>\n",
              "      <th>Year</th>\n",
              "      <th>Cases</th>\n",
              "      <th>Deaths</th>\n",
              "      <th>Fatality rate</th>\n",
              "      <th>WHO Region</th>\n",
              "    </tr>\n",
              "  </thead>\n",
              "  <tbody>\n",
              "    <tr>\n",
              "      <th>975</th>\n",
              "      <td>Indonesia</td>\n",
              "      <td>2008</td>\n",
              "      <td>1007</td>\n",
              "      <td>27</td>\n",
              "      <td>2.68</td>\n",
              "      <td>South-East Asia</td>\n",
              "    </tr>\n",
              "    <tr>\n",
              "      <th>976</th>\n",
              "      <td>Indonesia</td>\n",
              "      <td>2005</td>\n",
              "      <td>1338</td>\n",
              "      <td>19</td>\n",
              "      <td>1.42</td>\n",
              "      <td>South-East Asia</td>\n",
              "    </tr>\n",
              "    <tr>\n",
              "      <th>977</th>\n",
              "      <td>Indonesia</td>\n",
              "      <td>2001</td>\n",
              "      <td>561</td>\n",
              "      <td>6</td>\n",
              "      <td>1.07</td>\n",
              "      <td>South-East Asia</td>\n",
              "    </tr>\n",
              "    <tr>\n",
              "      <th>978</th>\n",
              "      <td>Indonesia</td>\n",
              "      <td>1997</td>\n",
              "      <td>66</td>\n",
              "      <td>0</td>\n",
              "      <td>0.00</td>\n",
              "      <td>South-East Asia</td>\n",
              "    </tr>\n",
              "    <tr>\n",
              "      <th>979</th>\n",
              "      <td>Indonesia</td>\n",
              "      <td>1996</td>\n",
              "      <td>66</td>\n",
              "      <td>0</td>\n",
              "      <td>0.00</td>\n",
              "      <td>South-East Asia</td>\n",
              "    </tr>\n",
              "    <tr>\n",
              "      <th>980</th>\n",
              "      <td>Indonesia</td>\n",
              "      <td>1994</td>\n",
              "      <td>47</td>\n",
              "      <td>0</td>\n",
              "      <td>0.00</td>\n",
              "      <td>South-East Asia</td>\n",
              "    </tr>\n",
              "    <tr>\n",
              "      <th>981</th>\n",
              "      <td>Indonesia</td>\n",
              "      <td>1993</td>\n",
              "      <td>3564</td>\n",
              "      <td>25</td>\n",
              "      <td>0.70</td>\n",
              "      <td>South-East Asia</td>\n",
              "    </tr>\n",
              "    <tr>\n",
              "      <th>982</th>\n",
              "      <td>Indonesia</td>\n",
              "      <td>1992</td>\n",
              "      <td>25</td>\n",
              "      <td>0</td>\n",
              "      <td>0.00</td>\n",
              "      <td>South-East Asia</td>\n",
              "    </tr>\n",
              "    <tr>\n",
              "      <th>983</th>\n",
              "      <td>Indonesia</td>\n",
              "      <td>1991</td>\n",
              "      <td>6202</td>\n",
              "      <td>55</td>\n",
              "      <td>0.89</td>\n",
              "      <td>South-East Asia</td>\n",
              "    </tr>\n",
              "    <tr>\n",
              "      <th>984</th>\n",
              "      <td>Indonesia</td>\n",
              "      <td>1990</td>\n",
              "      <td>155</td>\n",
              "      <td>0</td>\n",
              "      <td>0.00</td>\n",
              "      <td>South-East Asia</td>\n",
              "    </tr>\n",
              "    <tr>\n",
              "      <th>985</th>\n",
              "      <td>Indonesia</td>\n",
              "      <td>1989</td>\n",
              "      <td>67</td>\n",
              "      <td>0</td>\n",
              "      <td>0.00</td>\n",
              "      <td>South-East Asia</td>\n",
              "    </tr>\n",
              "    <tr>\n",
              "      <th>986</th>\n",
              "      <td>Indonesia</td>\n",
              "      <td>1988</td>\n",
              "      <td>50</td>\n",
              "      <td>0</td>\n",
              "      <td>0.00</td>\n",
              "      <td>South-East Asia</td>\n",
              "    </tr>\n",
              "    <tr>\n",
              "      <th>987</th>\n",
              "      <td>Indonesia</td>\n",
              "      <td>1987</td>\n",
              "      <td>659</td>\n",
              "      <td>18</td>\n",
              "      <td>2.73</td>\n",
              "      <td>South-East Asia</td>\n",
              "    </tr>\n",
              "    <tr>\n",
              "      <th>988</th>\n",
              "      <td>Indonesia</td>\n",
              "      <td>1986</td>\n",
              "      <td>11915</td>\n",
              "      <td>391</td>\n",
              "      <td>3.28</td>\n",
              "      <td>South-East Asia</td>\n",
              "    </tr>\n",
              "    <tr>\n",
              "      <th>989</th>\n",
              "      <td>Indonesia</td>\n",
              "      <td>1985</td>\n",
              "      <td>4732</td>\n",
              "      <td>85</td>\n",
              "      <td>1.80</td>\n",
              "      <td>South-East Asia</td>\n",
              "    </tr>\n",
              "    <tr>\n",
              "      <th>990</th>\n",
              "      <td>Indonesia</td>\n",
              "      <td>1984</td>\n",
              "      <td>7921</td>\n",
              "      <td>59</td>\n",
              "      <td>0.74</td>\n",
              "      <td>South-East Asia</td>\n",
              "    </tr>\n",
              "    <tr>\n",
              "      <th>991</th>\n",
              "      <td>Indonesia</td>\n",
              "      <td>1983</td>\n",
              "      <td>13832</td>\n",
              "      <td>346</td>\n",
              "      <td>2.50</td>\n",
              "      <td>South-East Asia</td>\n",
              "    </tr>\n",
              "    <tr>\n",
              "      <th>992</th>\n",
              "      <td>Indonesia</td>\n",
              "      <td>1982</td>\n",
              "      <td>10391</td>\n",
              "      <td>535</td>\n",
              "      <td>5.15</td>\n",
              "      <td>South-East Asia</td>\n",
              "    </tr>\n",
              "    <tr>\n",
              "      <th>993</th>\n",
              "      <td>Indonesia</td>\n",
              "      <td>1981</td>\n",
              "      <td>18354</td>\n",
              "      <td>463</td>\n",
              "      <td>2.52</td>\n",
              "      <td>South-East Asia</td>\n",
              "    </tr>\n",
              "    <tr>\n",
              "      <th>994</th>\n",
              "      <td>Indonesia</td>\n",
              "      <td>1980</td>\n",
              "      <td>5541</td>\n",
              "      <td>150</td>\n",
              "      <td>2.71</td>\n",
              "      <td>South-East Asia</td>\n",
              "    </tr>\n",
              "    <tr>\n",
              "      <th>995</th>\n",
              "      <td>Indonesia</td>\n",
              "      <td>1979</td>\n",
              "      <td>18817</td>\n",
              "      <td>769</td>\n",
              "      <td>4.09</td>\n",
              "      <td>South-East Asia</td>\n",
              "    </tr>\n",
              "    <tr>\n",
              "      <th>996</th>\n",
              "      <td>Indonesia</td>\n",
              "      <td>1978</td>\n",
              "      <td>10683</td>\n",
              "      <td>507</td>\n",
              "      <td>4.75</td>\n",
              "      <td>South-East Asia</td>\n",
              "    </tr>\n",
              "    <tr>\n",
              "      <th>997</th>\n",
              "      <td>Indonesia</td>\n",
              "      <td>1977</td>\n",
              "      <td>17112</td>\n",
              "      <td>780</td>\n",
              "      <td>4.56</td>\n",
              "      <td>South-East Asia</td>\n",
              "    </tr>\n",
              "    <tr>\n",
              "      <th>998</th>\n",
              "      <td>Indonesia</td>\n",
              "      <td>1976</td>\n",
              "      <td>41264</td>\n",
              "      <td>2665</td>\n",
              "      <td>6.46</td>\n",
              "      <td>South-East Asia</td>\n",
              "    </tr>\n",
              "    <tr>\n",
              "      <th>999</th>\n",
              "      <td>Indonesia</td>\n",
              "      <td>1975</td>\n",
              "      <td>48387</td>\n",
              "      <td>3715</td>\n",
              "      <td>7.68</td>\n",
              "      <td>South-East Asia</td>\n",
              "    </tr>\n",
              "    <tr>\n",
              "      <th>1000</th>\n",
              "      <td>Indonesia</td>\n",
              "      <td>1974</td>\n",
              "      <td>41474</td>\n",
              "      <td>3920</td>\n",
              "      <td>9.45</td>\n",
              "      <td>South-East Asia</td>\n",
              "    </tr>\n",
              "    <tr>\n",
              "      <th>1001</th>\n",
              "      <td>Indonesia</td>\n",
              "      <td>1973</td>\n",
              "      <td>52042</td>\n",
              "      <td>3058</td>\n",
              "      <td>5.88</td>\n",
              "      <td>South-East Asia</td>\n",
              "    </tr>\n",
              "    <tr>\n",
              "      <th>1002</th>\n",
              "      <td>Indonesia</td>\n",
              "      <td>1972</td>\n",
              "      <td>44383</td>\n",
              "      <td>6956</td>\n",
              "      <td>15.67</td>\n",
              "      <td>South-East Asia</td>\n",
              "    </tr>\n",
              "    <tr>\n",
              "      <th>1003</th>\n",
              "      <td>Indonesia</td>\n",
              "      <td>1971</td>\n",
              "      <td>23555</td>\n",
              "      <td>3607</td>\n",
              "      <td>15.31</td>\n",
              "      <td>South-East Asia</td>\n",
              "    </tr>\n",
              "    <tr>\n",
              "      <th>1004</th>\n",
              "      <td>Indonesia</td>\n",
              "      <td>1970</td>\n",
              "      <td>5997</td>\n",
              "      <td>1257</td>\n",
              "      <td>20.96</td>\n",
              "      <td>South-East Asia</td>\n",
              "    </tr>\n",
              "    <tr>\n",
              "      <th>1005</th>\n",
              "      <td>Indonesia</td>\n",
              "      <td>1969</td>\n",
              "      <td>627</td>\n",
              "      <td>262</td>\n",
              "      <td>41.79</td>\n",
              "      <td>South-East Asia</td>\n",
              "    </tr>\n",
              "    <tr>\n",
              "      <th>1006</th>\n",
              "      <td>Indonesia</td>\n",
              "      <td>1968</td>\n",
              "      <td>135</td>\n",
              "      <td>22</td>\n",
              "      <td>16.30</td>\n",
              "      <td>South-East Asia</td>\n",
              "    </tr>\n",
              "    <tr>\n",
              "      <th>1007</th>\n",
              "      <td>Indonesia</td>\n",
              "      <td>1967</td>\n",
              "      <td>700</td>\n",
              "      <td>139</td>\n",
              "      <td>19.86</td>\n",
              "      <td>South-East Asia</td>\n",
              "    </tr>\n",
              "    <tr>\n",
              "      <th>1008</th>\n",
              "      <td>Indonesia</td>\n",
              "      <td>1966</td>\n",
              "      <td>204</td>\n",
              "      <td>36</td>\n",
              "      <td>17.65</td>\n",
              "      <td>South-East Asia</td>\n",
              "    </tr>\n",
              "    <tr>\n",
              "      <th>1009</th>\n",
              "      <td>Indonesia</td>\n",
              "      <td>1964</td>\n",
              "      <td>326</td>\n",
              "      <td>69</td>\n",
              "      <td>21.17</td>\n",
              "      <td>South-East Asia</td>\n",
              "    </tr>\n",
              "    <tr>\n",
              "      <th>1010</th>\n",
              "      <td>Indonesia</td>\n",
              "      <td>1963</td>\n",
              "      <td>535</td>\n",
              "      <td>83</td>\n",
              "      <td>15.51</td>\n",
              "      <td>South-East Asia</td>\n",
              "    </tr>\n",
              "    <tr>\n",
              "      <th>1011</th>\n",
              "      <td>Indonesia</td>\n",
              "      <td>1962</td>\n",
              "      <td>428</td>\n",
              "      <td>80</td>\n",
              "      <td>18.69</td>\n",
              "      <td>South-East Asia</td>\n",
              "    </tr>\n",
              "    <tr>\n",
              "      <th>1012</th>\n",
              "      <td>Indonesia</td>\n",
              "      <td>1961</td>\n",
              "      <td>1742</td>\n",
              "      <td>474</td>\n",
              "      <td>27.21</td>\n",
              "      <td>South-East Asia</td>\n",
              "    </tr>\n",
              "    <tr>\n",
              "      <th>1013</th>\n",
              "      <td>Indonesia</td>\n",
              "      <td>1960</td>\n",
              "      <td>41</td>\n",
              "      <td>22</td>\n",
              "      <td>53.66</td>\n",
              "      <td>South-East Asia</td>\n",
              "    </tr>\n",
              "  </tbody>\n",
              "</table>\n",
              "</div>"
            ],
            "text/plain": [
              "        Country  Year  Cases  Deaths  Fatality rate       WHO Region\n",
              "975   Indonesia  2008   1007      27           2.68  South-East Asia\n",
              "976   Indonesia  2005   1338      19           1.42  South-East Asia\n",
              "977   Indonesia  2001    561       6           1.07  South-East Asia\n",
              "978   Indonesia  1997     66       0           0.00  South-East Asia\n",
              "979   Indonesia  1996     66       0           0.00  South-East Asia\n",
              "980   Indonesia  1994     47       0           0.00  South-East Asia\n",
              "981   Indonesia  1993   3564      25           0.70  South-East Asia\n",
              "982   Indonesia  1992     25       0           0.00  South-East Asia\n",
              "983   Indonesia  1991   6202      55           0.89  South-East Asia\n",
              "984   Indonesia  1990    155       0           0.00  South-East Asia\n",
              "985   Indonesia  1989     67       0           0.00  South-East Asia\n",
              "986   Indonesia  1988     50       0           0.00  South-East Asia\n",
              "987   Indonesia  1987    659      18           2.73  South-East Asia\n",
              "988   Indonesia  1986  11915     391           3.28  South-East Asia\n",
              "989   Indonesia  1985   4732      85           1.80  South-East Asia\n",
              "990   Indonesia  1984   7921      59           0.74  South-East Asia\n",
              "991   Indonesia  1983  13832     346           2.50  South-East Asia\n",
              "992   Indonesia  1982  10391     535           5.15  South-East Asia\n",
              "993   Indonesia  1981  18354     463           2.52  South-East Asia\n",
              "994   Indonesia  1980   5541     150           2.71  South-East Asia\n",
              "995   Indonesia  1979  18817     769           4.09  South-East Asia\n",
              "996   Indonesia  1978  10683     507           4.75  South-East Asia\n",
              "997   Indonesia  1977  17112     780           4.56  South-East Asia\n",
              "998   Indonesia  1976  41264    2665           6.46  South-East Asia\n",
              "999   Indonesia  1975  48387    3715           7.68  South-East Asia\n",
              "1000  Indonesia  1974  41474    3920           9.45  South-East Asia\n",
              "1001  Indonesia  1973  52042    3058           5.88  South-East Asia\n",
              "1002  Indonesia  1972  44383    6956          15.67  South-East Asia\n",
              "1003  Indonesia  1971  23555    3607          15.31  South-East Asia\n",
              "1004  Indonesia  1970   5997    1257          20.96  South-East Asia\n",
              "1005  Indonesia  1969    627     262          41.79  South-East Asia\n",
              "1006  Indonesia  1968    135      22          16.30  South-East Asia\n",
              "1007  Indonesia  1967    700     139          19.86  South-East Asia\n",
              "1008  Indonesia  1966    204      36          17.65  South-East Asia\n",
              "1009  Indonesia  1964    326      69          21.17  South-East Asia\n",
              "1010  Indonesia  1963    535      83          15.51  South-East Asia\n",
              "1011  Indonesia  1962    428      80          18.69  South-East Asia\n",
              "1012  Indonesia  1961   1742     474          27.21  South-East Asia\n",
              "1013  Indonesia  1960     41      22          53.66  South-East Asia"
            ]
          },
          "metadata": {
            "tags": []
          },
          "execution_count": 79
        }
      ]
    },
    {
      "cell_type": "code",
      "metadata": {
        "id": "-cw95zdD2Ike",
        "outputId": "d5d07993-2354-4368-fcfa-ff78b2ee5878",
        "colab": {
          "base_uri": "https://localhost:8080/",
          "height": 34
        }
      },
      "source": [
        "idn.shape"
      ],
      "execution_count": 80,
      "outputs": [
        {
          "output_type": "execute_result",
          "data": {
            "text/plain": [
              "(39, 6)"
            ]
          },
          "metadata": {
            "tags": []
          },
          "execution_count": 80
        }
      ]
    },
    {
      "cell_type": "code",
      "metadata": {
        "id": "DfLkqFWH2S5E",
        "outputId": "a8fc50ec-ebe5-466a-f3bf-9abd2b8e722d",
        "colab": {
          "base_uri": "https://localhost:8080/",
          "height": 419
        }
      },
      "source": [
        "SEA = data[data['WHO Region']=='South-East Asia']\n",
        "SEA"
      ],
      "execution_count": 81,
      "outputs": [
        {
          "output_type": "execute_result",
          "data": {
            "text/html": [
              "<div>\n",
              "<style scoped>\n",
              "    .dataframe tbody tr th:only-of-type {\n",
              "        vertical-align: middle;\n",
              "    }\n",
              "\n",
              "    .dataframe tbody tr th {\n",
              "        vertical-align: top;\n",
              "    }\n",
              "\n",
              "    .dataframe thead th {\n",
              "        text-align: right;\n",
              "    }\n",
              "</style>\n",
              "<table border=\"1\" class=\"dataframe\">\n",
              "  <thead>\n",
              "    <tr style=\"text-align: right;\">\n",
              "      <th></th>\n",
              "      <th>Country</th>\n",
              "      <th>Year</th>\n",
              "      <th>Cases</th>\n",
              "      <th>Deaths</th>\n",
              "      <th>Fatality rate</th>\n",
              "      <th>WHO Region</th>\n",
              "    </tr>\n",
              "  </thead>\n",
              "  <tbody>\n",
              "    <tr>\n",
              "      <th>128</th>\n",
              "      <td>Bangladesh</td>\n",
              "      <td>2000</td>\n",
              "      <td>1021</td>\n",
              "      <td>16</td>\n",
              "      <td>1.57</td>\n",
              "      <td>South-East Asia</td>\n",
              "    </tr>\n",
              "    <tr>\n",
              "      <th>129</th>\n",
              "      <td>Bangladesh</td>\n",
              "      <td>1999</td>\n",
              "      <td>3440</td>\n",
              "      <td>63</td>\n",
              "      <td>1.83</td>\n",
              "      <td>South-East Asia</td>\n",
              "    </tr>\n",
              "    <tr>\n",
              "      <th>130</th>\n",
              "      <td>Bangladesh</td>\n",
              "      <td>1998</td>\n",
              "      <td>1067</td>\n",
              "      <td>26</td>\n",
              "      <td>2.44</td>\n",
              "      <td>South-East Asia</td>\n",
              "    </tr>\n",
              "    <tr>\n",
              "      <th>131</th>\n",
              "      <td>Bangladesh</td>\n",
              "      <td>1997</td>\n",
              "      <td>1959</td>\n",
              "      <td>95</td>\n",
              "      <td>4.85</td>\n",
              "      <td>South-East Asia</td>\n",
              "    </tr>\n",
              "    <tr>\n",
              "      <th>132</th>\n",
              "      <td>Bangladesh</td>\n",
              "      <td>1996</td>\n",
              "      <td>418</td>\n",
              "      <td>0</td>\n",
              "      <td>0.00</td>\n",
              "      <td>South-East Asia</td>\n",
              "    </tr>\n",
              "    <tr>\n",
              "      <th>...</th>\n",
              "      <td>...</td>\n",
              "      <td>...</td>\n",
              "      <td>...</td>\n",
              "      <td>...</td>\n",
              "      <td>...</td>\n",
              "      <td>...</td>\n",
              "    </tr>\n",
              "    <tr>\n",
              "      <th>2145</th>\n",
              "      <td>Thailand</td>\n",
              "      <td>1959</td>\n",
              "      <td>4368</td>\n",
              "      <td>613</td>\n",
              "      <td>14.03</td>\n",
              "      <td>South-East Asia</td>\n",
              "    </tr>\n",
              "    <tr>\n",
              "      <th>2146</th>\n",
              "      <td>Thailand</td>\n",
              "      <td>1958</td>\n",
              "      <td>10201</td>\n",
              "      <td>1426</td>\n",
              "      <td>13.98</td>\n",
              "      <td>South-East Asia</td>\n",
              "    </tr>\n",
              "    <tr>\n",
              "      <th>2147</th>\n",
              "      <td>Thailand</td>\n",
              "      <td>1951</td>\n",
              "      <td>1</td>\n",
              "      <td>0</td>\n",
              "      <td>0.00</td>\n",
              "      <td>South-East Asia</td>\n",
              "    </tr>\n",
              "    <tr>\n",
              "      <th>2148</th>\n",
              "      <td>Thailand</td>\n",
              "      <td>1949</td>\n",
              "      <td>16</td>\n",
              "      <td>2</td>\n",
              "      <td>12.50</td>\n",
              "      <td>South-East Asia</td>\n",
              "    </tr>\n",
              "    <tr>\n",
              "      <th>2476</th>\n",
              "      <td>Bhutan</td>\n",
              "      <td>1958</td>\n",
              "      <td>0</td>\n",
              "      <td>0</td>\n",
              "      <td>0.00</td>\n",
              "      <td>South-East Asia</td>\n",
              "    </tr>\n",
              "  </tbody>\n",
              "</table>\n",
              "<p>292 rows × 6 columns</p>\n",
              "</div>"
            ],
            "text/plain": [
              "         Country  Year  Cases  Deaths  Fatality rate       WHO Region\n",
              "128   Bangladesh  2000   1021      16           1.57  South-East Asia\n",
              "129   Bangladesh  1999   3440      63           1.83  South-East Asia\n",
              "130   Bangladesh  1998   1067      26           2.44  South-East Asia\n",
              "131   Bangladesh  1997   1959      95           4.85  South-East Asia\n",
              "132   Bangladesh  1996    418       0           0.00  South-East Asia\n",
              "...          ...   ...    ...     ...            ...              ...\n",
              "2145    Thailand  1959   4368     613          14.03  South-East Asia\n",
              "2146    Thailand  1958  10201    1426          13.98  South-East Asia\n",
              "2147    Thailand  1951      1       0           0.00  South-East Asia\n",
              "2148    Thailand  1949     16       2          12.50  South-East Asia\n",
              "2476      Bhutan  1958      0       0           0.00  South-East Asia\n",
              "\n",
              "[292 rows x 6 columns]"
            ]
          },
          "metadata": {
            "tags": []
          },
          "execution_count": 81
        }
      ]
    },
    {
      "cell_type": "code",
      "metadata": {
        "id": "AiDthuNf2gh9",
        "outputId": "c6a380fa-db74-454f-ce85-20b9e439f957",
        "colab": {
          "base_uri": "https://localhost:8080/",
          "height": 416
        }
      },
      "source": [
        "#show plot reported cases from SEA\n",
        "\n",
        "SEAtop = SEA[(SEA['Year']<=2016) & (SEA['Year']>=1994)]\n",
        "resultTopC = SEAtop.groupby('Country')['Cases'].sum()\n",
        "resultTopC.sort_values()[:10].plot(kind='bar', figsize=(10,5))\n",
        "plt.title('Reported Cases of cholera from South-East Asia')"
      ],
      "execution_count": 95,
      "outputs": [
        {
          "output_type": "execute_result",
          "data": {
            "text/plain": [
              "Text(0.5, 1.0, 'Reported Cases of cholera from South-East Asia')"
            ]
          },
          "metadata": {
            "tags": []
          },
          "execution_count": 95
        },
        {
          "output_type": "display_data",
          "data": {
            "image/png": "[encoded data removed]",
            "text/plain": [
              "<Figure size 720x360 with 1 Axes>"
            ]
          },
          "metadata": {
            "tags": [],
            "needs_background": "light"
          }
        }
      ]
    },
    {
      "cell_type": "code",
      "metadata": {
        "id": "_mIfCr2ZBgWk",
        "outputId": "d4b36dc0-1c11-4f59-ae03-45616c6f1276",
        "colab": {
          "base_uri": "https://localhost:8080/",
          "height": 187
        }
      },
      "source": [
        "resultTopC.sort_values()[:10]"
      ],
      "execution_count": 97,
      "outputs": [
        {
          "output_type": "execute_result",
          "data": {
            "text/plain": [
              "Country\n",
              "Bhutan           44\n",
              "Sri Lanka      2085\n",
              "Indonesia      3085\n",
              "Myanmar        3270\n",
              "Nepal          5817\n",
              "Thailand       8180\n",
              "Bangladesh    10764\n",
              "India         72952\n",
              "Name: Cases, dtype: int64"
            ]
          },
          "metadata": {
            "tags": []
          },
          "execution_count": 97
        }
      ]
    },
    {
      "cell_type": "code",
      "metadata": {
        "id": "tbxvA4uYDv_B",
        "outputId": "273b13a7-437b-40c6-c3e7-dd46a3b8fb1a",
        "colab": {
          "base_uri": "https://localhost:8080/",
          "height": 416
        }
      },
      "source": [
        "#show plot reported deaths cases from SEA\n",
        "\n",
        "SEAtop = SEA[(SEA['Year']<=2016) & (SEA['Year']>=1994)]\n",
        "resultTopD = SEAtop.groupby('Country')['Deaths'].sum()\n",
        "resultTopD.sort_values()[:10].plot(kind='bar', figsize=(10,5), color='red')\n",
        "plt.title('Reported Deaths Cases of cholera from South-East Asia')"
      ],
      "execution_count": 94,
      "outputs": [
        {
          "output_type": "execute_result",
          "data": {
            "text/plain": [
              "Text(0.5, 1.0, 'Reported Deaths Cases of cholera from South-East Asia')"
            ]
          },
          "metadata": {
            "tags": []
          },
          "execution_count": 94
        },
        {
          "output_type": "display_data",
          "data": {
            "image/png": "[encoded data removed]",
            "text/plain": [
              "<Figure size 720x360 with 1 Axes>"
            ]
          },
          "metadata": {
            "tags": [],
            "needs_background": "light"
          }
        }
      ]
    },
    {
      "cell_type": "code",
      "metadata": {
        "id": "ZJdPqVu-GMvP",
        "outputId": "50dd5927-ae28-4727-da10-ff5dc00613c5",
        "colab": {
          "base_uri": "https://localhost:8080/",
          "height": 187
        }
      },
      "source": [
        "resultTopD.sort_values()[:10]"
      ],
      "execution_count": 98,
      "outputs": [
        {
          "output_type": "execute_result",
          "data": {
            "text/plain": [
              "Country\n",
              "Bhutan          0\n",
              "Nepal          29\n",
              "Myanmar        34\n",
              "Thailand       38\n",
              "Indonesia      52\n",
              "Sri Lanka      67\n",
              "India         253\n",
              "Bangladesh    302\n",
              "Name: Deaths, dtype: int64"
            ]
          },
          "metadata": {
            "tags": []
          },
          "execution_count": 98
        }
      ]
    },
    {
      "cell_type": "code",
      "metadata": {
        "id": "bEc5mGNsRp0q",
        "outputId": "16cb09a2-2163-4878-c589-fd2433b84730",
        "colab": {
          "base_uri": "https://localhost:8080/",
          "height": 827
        }
      },
      "source": [
        "#Report from Indonesia\n",
        "fig, ax = plt.subplots(figsize=(12,14))\n",
        "ax.plot(idn['Year'], idn['Cases'], color= 'blue')\n",
        "ax.set_xlabel('Year', fontsize=14)\n",
        "ax.set_ylabel('Reported Case', color='blue', fontsize=14)\n",
        "\n",
        "ax2 = ax.twinx()\n",
        "ax2.plot(idn['Year'], idn['Deaths'], color= 'red')\n",
        "ax2.set_xlabel('Year', fontsize=14)\n",
        "ax2.set_ylabel('Reported Case', color='red', fontsize=14)\n",
        "plt.show()"
      ],
      "execution_count": 128,
      "outputs": [
        {
          "output_type": "display_data",
          "data": {
            "image/png": "[encoded data removed]",
            "text/plain": [
              "<Figure size 864x1008 with 2 Axes>"
            ]
          },
          "metadata": {
            "tags": [],
            "needs_background": "light"
          }
        }
      ]
    },
    {
      "cell_type": "markdown",
      "metadata": {
        "id": "Bu7kPlc7TbUS"
      },
      "source": [
        "#Step 3:"
      ]
    },
    {
      "cell_type": "code",
      "metadata": {
        "id": "49TzDjiNTfZB"
      },
      "source": [
        ""
      ],
      "execution_count": null,
      "outputs": []
    }
  ]
}